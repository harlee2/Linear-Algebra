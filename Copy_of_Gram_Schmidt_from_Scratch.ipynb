{
  "nbformat": 4,
  "nbformat_minor": 0,
  "metadata": {
    "colab": {
      "provenance": [],
      "authorship_tag": "ABX9TyMtrAlupvQsvlEZ9IdNYdMm",
      "include_colab_link": true
    },
    "kernelspec": {
      "name": "python3",
      "display_name": "Python 3"
    },
    "language_info": {
      "name": "python"
    }
  },
  "cells": [
    {
      "cell_type": "markdown",
      "metadata": {
        "id": "view-in-github",
        "colab_type": "text"
      },
      "source": [
        "<a href=\"https://colab.research.google.com/github/harlee2/Linear-Algebra/blob/main/Copy_of_Gram_Schmidt_from_Scratch.ipynb\" target=\"_parent\"><img src=\"https://colab.research.google.com/assets/colab-badge.svg\" alt=\"Open In Colab\"/></a>"
      ]
    },
    {
      "cell_type": "code",
      "execution_count": null,
      "metadata": {
        "id": "vCaUFjZ60T-_"
      },
      "outputs": [],
      "source": [
        "import matplotlib.pyplot as plt\n",
        "from sympy import Poly\n",
        "import sympy as sym\n",
        "import numpy as np\n",
        "from numpy import c_\n",
        "\n",
        "# We'll specify that x and t are variables:\n",
        "x, t = sym.symbols('x, t')\n",
        "\n",
        "ll = \"loaded\""
      ]
    },
    {
      "cell_type": "markdown",
      "source": [
        "#Let's figure out how to do vector operations:"
      ],
      "metadata": {
        "id": "FJNAMdu51cuN"
      }
    },
    {
      "cell_type": "code",
      "source": [
        "#create a vector:\n",
        "r1=np.array(   [1,2,3]   )\n",
        "r1"
      ],
      "metadata": {
        "colab": {
          "base_uri": "https://localhost:8080/"
        },
        "id": "ShFfbzzM1ZkN",
        "outputId": "3cc0c7c3-0094-4167-ffc8-de6da1f57d32"
      },
      "execution_count": null,
      "outputs": [
        {
          "output_type": "execute_result",
          "data": {
            "text/plain": [
              "array([1, 2, 3])"
            ]
          },
          "metadata": {},
          "execution_count": 2
        }
      ]
    },
    {
      "cell_type": "code",
      "source": [
        "#Vector arithmetic:\n",
        "-3*r1"
      ],
      "metadata": {
        "colab": {
          "base_uri": "https://localhost:8080/"
        },
        "id": "-N3aPXlq2dNK",
        "outputId": "ff6e5f50-e899-4c6c-d288-8f706764284f"
      },
      "execution_count": null,
      "outputs": [
        {
          "output_type": "execute_result",
          "data": {
            "text/plain": [
              "array([-3, -6, -9])"
            ]
          },
          "metadata": {},
          "execution_count": 3
        }
      ]
    },
    {
      "cell_type": "code",
      "source": [
        "#Vector dot products:\n",
        "r1.dot(r1)"
      ],
      "metadata": {
        "colab": {
          "base_uri": "https://localhost:8080/"
        },
        "id": "X4JgXTDW2nqJ",
        "outputId": "124dfe6e-8764-480d-cb6a-72b33fd72aa9"
      },
      "execution_count": null,
      "outputs": [
        {
          "output_type": "execute_result",
          "data": {
            "text/plain": [
              "14"
            ]
          },
          "metadata": {},
          "execution_count": 4
        }
      ]
    },
    {
      "cell_type": "code",
      "source": [
        "#Mangitude:\n",
        "r1.size\n",
        "r1.dot(r1)"
      ],
      "metadata": {
        "colab": {
          "base_uri": "https://localhost:8080/"
        },
        "id": "jO3_TiiM20Sj",
        "outputId": "5cbd1bf6-c101-4f33-bf33-354ca773c2cc"
      },
      "execution_count": null,
      "outputs": [
        {
          "output_type": "execute_result",
          "data": {
            "text/plain": [
              "14"
            ]
          },
          "metadata": {},
          "execution_count": 5
        }
      ]
    },
    {
      "cell_type": "code",
      "source": [
        "#Need the square root!\n",
        "#sqrt(14)\n",
        "(14)**(0.5)\n",
        "np.sqrt(14)"
      ],
      "metadata": {
        "colab": {
          "base_uri": "https://localhost:8080/"
        },
        "id": "fQ01ds_d3W6Z",
        "outputId": "60dbb8d8-e7d6-4369-cbe7-7077c6ee8e07"
      },
      "execution_count": null,
      "outputs": [
        {
          "output_type": "execute_result",
          "data": {
            "text/plain": [
              "3.7416573867739413"
            ]
          },
          "metadata": {},
          "execution_count": 6
        }
      ]
    },
    {
      "cell_type": "code",
      "source": [
        "#Magnitude of vector r1:\n",
        "np.sqrt(r1.dot(r1))"
      ],
      "metadata": {
        "colab": {
          "base_uri": "https://localhost:8080/"
        },
        "id": "A0nmCOQ93hRy",
        "outputId": "474acfa3-a04f-478a-d076-2fdbb701e80c"
      },
      "execution_count": null,
      "outputs": [
        {
          "output_type": "execute_result",
          "data": {
            "text/plain": [
              "3.7416573867739413"
            ]
          },
          "metadata": {},
          "execution_count": 7
        }
      ]
    },
    {
      "cell_type": "markdown",
      "source": [
        "# Implement Gram Schmidt on 4 vectors"
      ],
      "metadata": {
        "id": "b-2ss_4d4Uuh"
      }
    },
    {
      "cell_type": "code",
      "source": [
        "# Original, Random Vectors:\n",
        "r1=np.array( [3,0,3,0] )\n",
        "r2=np.array( [3,2,3,3] )\n",
        "r3=np.array( [-7,-4,-5,-6] )\n",
        "r4=np.array( [-7,-3,-11,2] )\n"
      ],
      "metadata": {
        "id": "LS446MU24CM_"
      },
      "execution_count": null,
      "outputs": []
    },
    {
      "cell_type": "code",
      "source": [
        "print(\"The first random vector is:\", r1)"
      ],
      "metadata": {
        "colab": {
          "base_uri": "https://localhost:8080/"
        },
        "id": "63UbIHdQ5Tu0",
        "outputId": "6d95d8e2-c5fd-4092-9428-6dea5f8d9ec4"
      },
      "execution_count": null,
      "outputs": [
        {
          "output_type": "stream",
          "name": "stdout",
          "text": [
            "The first random vector is: [3 0 3 0]\n"
          ]
        }
      ]
    },
    {
      "cell_type": "markdown",
      "source": [
        "# Process $r_1$"
      ],
      "metadata": {
        "id": "-ndfqkWZ5qR6"
      }
    },
    {
      "cell_type": "code",
      "source": [
        "# Choose the r1 vector and subtract off the \"Nice\" orthogonal pieces:\n",
        "t1=r1\n",
        "print(\"t1=\", t1)\n",
        "\n",
        "#Find the size of t1:\n",
        "m=np.sqrt(t1.dot(t1))\n",
        "print(\"the size of t1 is\", m)\n",
        "\n",
        "#The nice vector is u1=t1/m:\n",
        "u1=(1/m)*t1\n",
        "print(\"The nice vector is u1 =\", u1)"
      ],
      "metadata": {
        "colab": {
          "base_uri": "https://localhost:8080/"
        },
        "id": "Mjmlp-SP5oKJ",
        "outputId": "bf7d7847-4486-4b91-d60a-1ff32ff8ce8c"
      },
      "execution_count": null,
      "outputs": [
        {
          "output_type": "stream",
          "name": "stdout",
          "text": [
            "t1= [3 0 3 0]\n",
            "the size of t1 is 4.242640687119285\n",
            "The nice vector is u1 = [0.70710678 0.         0.70710678 0.        ]\n"
          ]
        }
      ]
    },
    {
      "cell_type": "code",
      "source": [
        "# Sanity check:\n",
        "print(\"The size of u1 =\", np.sqrt(u1.dot(u1)))"
      ],
      "metadata": {
        "colab": {
          "base_uri": "https://localhost:8080/"
        },
        "id": "gWHabpaw56Yz",
        "outputId": "6d146d89-368f-49cd-aa33-18dea0dfa95e"
      },
      "execution_count": null,
      "outputs": [
        {
          "output_type": "stream",
          "name": "stdout",
          "text": [
            "The size of u1 = 1.0\n"
          ]
        }
      ]
    },
    {
      "cell_type": "markdown",
      "source": [
        "# Process $r_2$"
      ],
      "metadata": {
        "id": "Y0VEfiua7PlL"
      }
    },
    {
      "cell_type": "code",
      "source": [
        "# Choose the r2 vector and subtract off the \"Nice\" orthogonal pieces:\n",
        "t2=r2 - r2.dot(u1)*u1\n",
        "print(\"t2=\",t2)\n",
        "\n",
        "#Find the size of t2:\n",
        "m=np.sqrt(t2.dot(t2))\n",
        "print(\"the size of t2 is\", m)\n",
        "\n",
        "#The nice vector is u2=t2/m:\n",
        "u2=(1/m)*t2\n",
        "print(\"The nice vector is u2 =\", u2)"
      ],
      "metadata": {
        "colab": {
          "base_uri": "https://localhost:8080/"
        },
        "id": "RCGXUDwo7Iot",
        "outputId": "f9ee8191-d02f-4f83-89d3-82a5221049e7"
      },
      "execution_count": null,
      "outputs": [
        {
          "output_type": "stream",
          "name": "stdout",
          "text": [
            "t2= [-4.4408921e-16  2.0000000e+00 -4.4408921e-16  3.0000000e+00]\n",
            "the size of t2 is 3.605551275463989\n",
            "The nice vector is u2 = [-1.23168186e-16  5.54700196e-01 -1.23168186e-16  8.32050294e-01]\n"
          ]
        }
      ]
    },
    {
      "cell_type": "code",
      "source": [
        "# Sanity check:\n",
        "print(\"The size of u1 =\", np.sqrt(u1.dot(u1)))\n",
        "print(\"The size of u2 =\", np.sqrt(u2.dot(u2)))\n",
        "print(\"u1.u2 =\", u1.dot(u2))"
      ],
      "metadata": {
        "colab": {
          "base_uri": "https://localhost:8080/"
        },
        "id": "PY3GgJXa77eo",
        "outputId": "114ceee6-6790-4550-b374-d0da5b322251"
      },
      "execution_count": null,
      "outputs": [
        {
          "output_type": "stream",
          "name": "stdout",
          "text": [
            "The size of u1 = 1.0\n",
            "The size of u2 = 1.0\n",
            "u1.u2 = -1.741861189847285e-16\n"
          ]
        }
      ]
    },
    {
      "cell_type": "markdown",
      "source": [
        "# Process $r_3$"
      ],
      "metadata": {
        "id": "Y6F1lF6i8INJ"
      }
    },
    {
      "cell_type": "code",
      "source": [
        "# Choose the r3 vector and subtract off the \"Nice\" orthogonal pieces:\n",
        "t3=r3 - r3.dot(u1)*u1 - r3.dot(u2)*u2\n",
        "print(\"t3=\",t3)\n",
        "\n",
        "#Find the size of t3:\n",
        "m=np.sqrt(t3.dot(t3))\n",
        "print(\"the size of t3 is\", m)\n",
        "\n",
        "#The nice vector is u3=t3/m:\n",
        "u3=(1/m)*t3\n",
        "print(\"The nice vector is u3 =\", u3)"
      ],
      "metadata": {
        "colab": {
          "base_uri": "https://localhost:8080/"
        },
        "id": "AFHzLMtO8Abb",
        "outputId": "362cac95-731c-4b11-e5e8-40092b877d9f"
      },
      "execution_count": null,
      "outputs": [
        {
          "output_type": "stream",
          "name": "stdout",
          "text": [
            "t3= [-1.0000000e+00 -4.4408921e-16  1.0000000e+00 -8.8817842e-16]\n",
            "the size of t3 is 1.4142135623730951\n",
            "The nice vector is u3 = [-7.07106781e-01 -3.14018492e-16  7.07106781e-01 -6.28036983e-16]\n"
          ]
        }
      ]
    },
    {
      "cell_type": "code",
      "source": [
        "# Sanity check:\n",
        "print(\"The size of u1 =\", np.sqrt(u1.dot(u1)))\n",
        "print(\"The size of u2 =\", np.sqrt(u2.dot(u2)))\n",
        "print(\"The size of u3 =\", np.sqrt(u3.dot(u3)))\n",
        "print(\"u1.u2 =\", u1.dot(u2))"
      ],
      "metadata": {
        "colab": {
          "base_uri": "https://localhost:8080/"
        },
        "id": "SAUrnCaz8_v1",
        "outputId": "7c76d737-ab3c-4ad0-ddf6-3309936fe167"
      },
      "execution_count": null,
      "outputs": [
        {
          "output_type": "stream",
          "name": "stdout",
          "text": [
            "The size of u1 = 1.0\n",
            "The size of u2 = 1.0\n",
            "The size of u3 = 0.9999999999999999\n",
            "u1.u2 = -1.741861189847285e-16\n"
          ]
        }
      ]
    },
    {
      "cell_type": "markdown",
      "source": [
        "# Process $r_4$"
      ],
      "metadata": {
        "id": "JO4AORdE6ff8"
      }
    },
    {
      "cell_type": "code",
      "source": [
        "# Choose the r4 vector and subtract off the \"Nice\" orthogonal pieces:\n",
        "t4=r4 - r4.dot(u1)*u1 - r4.dot(u2)*u2 - r4.dot(u3)*u3\n",
        "print(\"t4=\",t4)\n",
        "\n",
        "#Find the size of t4:\n",
        "m=np.sqrt(t4.dot(t4))\n",
        "print(\"the size of t4 is\", m)\n",
        "\n",
        "#The nice vector is u4=t4/m:\n",
        "u4=(1/m)*t4\n",
        "print(\"The nice vector is u4 =\", u4)"
      ],
      "metadata": {
        "colab": {
          "base_uri": "https://localhost:8080/"
        },
        "id": "hQ9-EI2R6il7",
        "outputId": "bc6da57d-e770-411f-9649-a7eba64da97f"
      },
      "execution_count": null,
      "outputs": [
        {
          "output_type": "stream",
          "name": "stdout",
          "text": [
            "t4= [ 0. -3.  0.  2.]\n",
            "the size of t4 is 3.605551275463989\n",
            "The nice vector is u4 = [ 0.         -0.83205029  0.          0.5547002 ]\n"
          ]
        }
      ]
    },
    {
      "cell_type": "code",
      "source": [
        "# Sanity check:\n",
        "print(\"The size of u1 =\", np.sqrt(u1.dot(u1)))\n",
        "print(\"The size of u2 =\", np.sqrt(u2.dot(u2)))\n",
        "print(\"The size of u3 =\", np.sqrt(u3.dot(u3)))\n",
        "print(\"The size of u4 =\", np.sqrt(u4.dot(u4)))\n",
        "print(\"u1.u2 =\", u1.dot(u2))\n",
        "print(\"u1.u3 =\", u1.dot(u3))\n",
        "print(\"u1.u4 =\", u1.dot(u4))\n",
        "print(\"u2.u3 =\", u2.dot(u3))\n",
        "print(\"u2.u4 =\", u2.dot(u4))\n",
        "print(\"u3.u4 =\", u3.dot(u4))"
      ],
      "metadata": {
        "id": "80H5TTvS9ILf",
        "colab": {
          "base_uri": "https://localhost:8080/"
        },
        "outputId": "aee818b8-4239-404e-b83c-5714ff0449f5"
      },
      "execution_count": null,
      "outputs": [
        {
          "output_type": "stream",
          "name": "stdout",
          "text": [
            "The size of u1 = 1.0\n",
            "The size of u2 = 1.0\n",
            "The size of u3 = 0.9999999999999999\n",
            "The size of u4 = 1.0\n",
            "u1.u2 = -1.741861189847285e-16\n",
            "u1.u3 = 0.0\n",
            "u1.u4 = 0.0\n",
            "u2.u3 = -6.967444759389139e-16\n",
            "u2.u4 = -1.2212453270876722e-15\n",
            "u3.u4 = -8.709305949236341e-17\n"
          ]
        }
      ]
    },
    {
      "cell_type": "markdown",
      "source": [
        "#Write $r_1, r_2, r_3,$ and $r_4$ in terms of $u_1, u_2, u_3,$ and $u_4$"
      ],
      "metadata": {
        "id": "LyuqWniS9OHL"
      }
    },
    {
      "cell_type": "code",
      "source": [
        "print(\"r1 =\", r1.dot(u1), \"u1 +\", r1.dot(u2), \"u2 +\", r1.dot(u3), \"u3 +\", r1.dot(u4))\n",
        "print(\"r2 =\", r2.dot(u1), \"u1 +\", r2.dot(u2), \"u2 +\", r2.dot(u3), \"u3 +\", r2.dot(u4))\n",
        "print(\"r3 =\", r3.dot(u1), \"u1 +\", r3.dot(u2), \"u2 +\", r3.dot(u3), \"u3 +\", r3.dot(u4))\n",
        "print(\"r4 =\", r4.dot(u1), \"u1 +\", r4.dot(u2), \"u2 +\", r4.dot(u3), \"u3 +\", r4.dot(u4))"
      ],
      "metadata": {
        "colab": {
          "base_uri": "https://localhost:8080/"
        },
        "id": "Gmf-s-gJ9grV",
        "outputId": "2c3144e3-ffe2-4e7d-955c-5ab80448c118"
      },
      "execution_count": null,
      "outputs": [
        {
          "output_type": "stream",
          "name": "stdout",
          "text": [
            "r1 = 4.242640687119286 u1 + -7.390091155360101e-16 u2 + 0.0 u3 + 0.0\n",
            "r2 = 4.242640687119286 u1 + 3.6055512754639887 u2 + -2.3282001602705925e-15 u3 + -4.218847493575595e-15\n",
            "r3 = -8.485281374238571 u1 + -7.211102550927977 u2 + 1.4142135623730991 u3 + 8.43769498715119e-15\n",
            "r4 = -12.727922061357855 u1 + 2.220446049250313e-15 u2 + -2.8284271247461903 u3 + 3.6055512754639896\n"
          ]
        }
      ]
    }
  ]
}