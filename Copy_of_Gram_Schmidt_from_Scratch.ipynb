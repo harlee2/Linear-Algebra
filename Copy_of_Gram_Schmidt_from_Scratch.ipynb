{
  "nbformat": 4,
  "nbformat_minor": 0,
  "metadata": {
    "colab": {
      "provenance": [],
      "authorship_tag": "ABX9TyMqnGX2ChPae3x+pPknAaWU",
      "include_colab_link": true
    },
    "kernelspec": {
      "name": "python3",
      "display_name": "Python 3"
    },
    "language_info": {
      "name": "python"
    }
  },
  "cells": [
    {
      "cell_type": "markdown",
      "metadata": {
        "id": "view-in-github",
        "colab_type": "text"
      },
      "source": [
        "<a href=\"https://colab.research.google.com/github/harlee2/Linear-Algebra/blob/main/Copy_of_Gram_Schmidt_from_Scratch.ipynb\" target=\"_parent\"><img src=\"https://colab.research.google.com/assets/colab-badge.svg\" alt=\"Open In Colab\"/></a>"
      ]
    },
    {
      "cell_type": "code",
      "execution_count": null,
      "metadata": {
        "id": "vCaUFjZ60T-_"
      },
      "outputs": [],
      "source": [
        "import matplotlib.pyplot as plt\n",
        "from sympy import Poly\n",
        "import sympy as sym\n",
        "import numpy as np\n",
        "from numpy import c_\n",
        "\n",
        "# We'll specify that x and t are variables:\n",
        "x, t = sym.symbols('x, t')\n",
        "\n",
        "ll = \"loaded\""
      ]
    },
    {
      "cell_type": "markdown",
      "source": [
        "#Let's figure out how to do vector operations:"
      ],
      "metadata": {
        "id": "FJNAMdu51cuN"
      }
    },
    {
      "cell_type": "code",
      "source": [
        "#create a vector:\n",
        "r1=np.array(   [1,2,3]   )\n",
        "r1"
      ],
      "metadata": {
        "colab": {
          "base_uri": "https://localhost:8080/"
        },
        "id": "ShFfbzzM1ZkN",
        "outputId": "8a1cad1d-be93-4daa-c1fa-14a5a4f1b943"
      },
      "execution_count": null,
      "outputs": [
        {
          "output_type": "execute_result",
          "data": {
            "text/plain": [
              "array([1, 2, 3])"
            ]
          },
          "metadata": {},
          "execution_count": 2
        }
      ]
    },
    {
      "cell_type": "code",
      "source": [
        "#Vector arithmetic:\n",
        "-3*r1"
      ],
      "metadata": {
        "colab": {
          "base_uri": "https://localhost:8080/"
        },
        "id": "-N3aPXlq2dNK",
        "outputId": "417a24eb-e319-452b-e005-e3b4466a2433"
      },
      "execution_count": null,
      "outputs": [
        {
          "output_type": "execute_result",
          "data": {
            "text/plain": [
              "array([-3, -6, -9])"
            ]
          },
          "metadata": {},
          "execution_count": 3
        }
      ]
    },
    {
      "cell_type": "code",
      "source": [
        "#Vector dot products:\n",
        "r1.dot(r1)"
      ],
      "metadata": {
        "colab": {
          "base_uri": "https://localhost:8080/"
        },
        "id": "X4JgXTDW2nqJ",
        "outputId": "6dc3aba4-e331-4b5d-c65f-119b0069f7b1"
      },
      "execution_count": null,
      "outputs": [
        {
          "output_type": "execute_result",
          "data": {
            "text/plain": [
              "14"
            ]
          },
          "metadata": {},
          "execution_count": 4
        }
      ]
    },
    {
      "cell_type": "code",
      "source": [
        "#Mangitude:\n",
        "r1.size\n",
        "r1.dot(r1)"
      ],
      "metadata": {
        "colab": {
          "base_uri": "https://localhost:8080/"
        },
        "id": "jO3_TiiM20Sj",
        "outputId": "d98c7389-464d-42d8-df41-7bb456ef8781"
      },
      "execution_count": null,
      "outputs": [
        {
          "output_type": "execute_result",
          "data": {
            "text/plain": [
              "14"
            ]
          },
          "metadata": {},
          "execution_count": 6
        }
      ]
    },
    {
      "cell_type": "code",
      "source": [
        "#Need the square root!\n",
        "#sqrt(14)\n",
        "(14)**(0.5)\n",
        "np.sqrt(14)"
      ],
      "metadata": {
        "colab": {
          "base_uri": "https://localhost:8080/"
        },
        "id": "fQ01ds_d3W6Z",
        "outputId": "0b2eec9b-3585-4ae3-f8f2-34e8bef156c5"
      },
      "execution_count": null,
      "outputs": [
        {
          "output_type": "execute_result",
          "data": {
            "text/plain": [
              "3.7416573867739413"
            ]
          },
          "metadata": {},
          "execution_count": 10
        }
      ]
    },
    {
      "cell_type": "code",
      "source": [
        "#Magnitude of vector r1:\n",
        "np.sqrt(r1.dot(r1))"
      ],
      "metadata": {
        "colab": {
          "base_uri": "https://localhost:8080/"
        },
        "id": "A0nmCOQ93hRy",
        "outputId": "b1578c50-9570-41d2-c467-28d7555e5189"
      },
      "execution_count": null,
      "outputs": [
        {
          "output_type": "execute_result",
          "data": {
            "text/plain": [
              "3.7416573867739413"
            ]
          },
          "metadata": {},
          "execution_count": 11
        }
      ]
    },
    {
      "cell_type": "markdown",
      "source": [
        "# Implement Gram Schmidt on 4 vectors"
      ],
      "metadata": {
        "id": "b-2ss_4d4Uuh"
      }
    },
    {
      "cell_type": "code",
      "source": [
        "# Original, Random Vectors:\n",
        "r1=np.array( [3,0,3,0] )\n",
        "r2=np.array( [3,2,3,3] )\n",
        "r3=np.array( [-7,-4,-5,-6] )\n",
        "r4=np.array( [-7,-3,-11,2] )\n"
      ],
      "metadata": {
        "id": "LS446MU24CM_"
      },
      "execution_count": null,
      "outputs": []
    },
    {
      "cell_type": "code",
      "source": [
        "print(\"The first random vector is:\", r1)"
      ],
      "metadata": {
        "colab": {
          "base_uri": "https://localhost:8080/"
        },
        "id": "63UbIHdQ5Tu0",
        "outputId": "4bbec0c3-d917-44ce-f84c-4e1fb37349e5"
      },
      "execution_count": null,
      "outputs": [
        {
          "output_type": "stream",
          "name": "stdout",
          "text": [
            "The first random vector is: [3 0 3 0]\n"
          ]
        }
      ]
    },
    {
      "cell_type": "markdown",
      "source": [
        "# Process $r_1$"
      ],
      "metadata": {
        "id": "-ndfqkWZ5qR6"
      }
    },
    {
      "cell_type": "code",
      "source": [
        "# Choose the r1 vector and subtract off the \"Nice\" orthogonal pieces:\n",
        "t1=r1\n",
        "print(\"t1=\", t1)\n",
        "\n",
        "#Find the size of t1:\n",
        "m=np.sqrt(t1.dot(t1))\n",
        "print(\"the size of t1 is\", m)\n",
        "\n",
        "#The nice vector is u1=t1/m:\n",
        "u1=(1/m)*t1\n",
        "print(\"The nice vector is u1 =\", u1)"
      ],
      "metadata": {
        "colab": {
          "base_uri": "https://localhost:8080/"
        },
        "id": "Mjmlp-SP5oKJ",
        "outputId": "c2b68aeb-847e-49f0-f911-5f6efad45b2b"
      },
      "execution_count": null,
      "outputs": [
        {
          "output_type": "stream",
          "name": "stdout",
          "text": [
            "t1= [3 0 3 0]\n",
            "the size of t1 is 4.242640687119285\n",
            "The nice vector is u1 = [0.70710678 0.         0.70710678 0.        ]\n"
          ]
        }
      ]
    },
    {
      "cell_type": "code",
      "source": [
        "# Sanity check:\n",
        "print(\"The size of u1 =\", np.sqrt(u1.dot(u1)))"
      ],
      "metadata": {
        "colab": {
          "base_uri": "https://localhost:8080/"
        },
        "id": "gWHabpaw56Yz",
        "outputId": "3e45d64e-9bb3-4df7-f14f-527ec681f353"
      },
      "execution_count": null,
      "outputs": [
        {
          "output_type": "stream",
          "name": "stdout",
          "text": [
            "The size of u1 = 1.0\n"
          ]
        }
      ]
    },
    {
      "cell_type": "markdown",
      "source": [
        "# Process $r_2$"
      ],
      "metadata": {
        "id": "Y0VEfiua7PlL"
      }
    },
    {
      "cell_type": "code",
      "source": [
        "# Choose the r2 vector and subtract off the \"Nice\" orthogonal pieces:\n",
        "t2=r2 - r2.dot(u1)*u1\n",
        "print(\"t2=\",t2)\n",
        "\n",
        "#Find the size of t2:\n",
        "m=np.sqrt(t2.dot(t2))\n",
        "print(\"the size of t2 is\", m)\n",
        "\n",
        "#The nice vector is u2=t2/m:\n",
        "u2=(1/m)*t2\n",
        "print(\"The nice vector is u2 =\", u2)"
      ],
      "metadata": {
        "colab": {
          "base_uri": "https://localhost:8080/"
        },
        "id": "RCGXUDwo7Iot",
        "outputId": "5a5141c3-dc39-47c3-a47b-a55ca0644b33"
      },
      "execution_count": null,
      "outputs": [
        {
          "output_type": "stream",
          "name": "stdout",
          "text": [
            "t2= [-4.4408921e-16  2.0000000e+00 -4.4408921e-16  3.0000000e+00]\n",
            "the size of t2 is 3.605551275463989\n",
            "The nice vector is u2 = [-1.23168186e-16  5.54700196e-01 -1.23168186e-16  8.32050294e-01]\n"
          ]
        }
      ]
    },
    {
      "cell_type": "code",
      "source": [
        "# Sanity check:\n",
        "print(\"The size of u1 =\", np.sqrt(u1.dot(u1)))\n",
        "print(\"The size of u2 =\", np.sqrt(u2.dot(u2)))\n",
        "print(\"u1.u2 =\", u1.dot(u2))"
      ],
      "metadata": {
        "colab": {
          "base_uri": "https://localhost:8080/"
        },
        "id": "PY3GgJXa77eo",
        "outputId": "15c77f5f-23fd-4d26-d630-6fdc66b04df4"
      },
      "execution_count": null,
      "outputs": [
        {
          "output_type": "stream",
          "name": "stdout",
          "text": [
            "The size of u1 = 1.0\n",
            "The size of u2 = 1.0\n",
            "u1.u2 = -1.741861189847285e-16\n"
          ]
        }
      ]
    },
    {
      "cell_type": "markdown",
      "source": [
        "# Process $r_3$"
      ],
      "metadata": {
        "id": "Y6F1lF6i8INJ"
      }
    },
    {
      "cell_type": "code",
      "source": [
        "# Choose the r3 vector and subtract off the \"Nice\" orthogonal pieces:\n",
        "t3=r3 - r3.dot(u1)*u1 - r3.dot(u2)*u2\n",
        "print(\"t3=\",t3)\n",
        "\n",
        "#Find the size of t3:\n",
        "m=np.sqrt(t3.dot(t3))\n",
        "print(\"the size of t3 is\", m)\n",
        "\n",
        "#The nice vector is u3=t3/m:\n",
        "u3=(1/m)*t3\n",
        "print(\"The nice vector is u3 =\", u3)"
      ],
      "metadata": {
        "colab": {
          "base_uri": "https://localhost:8080/"
        },
        "id": "AFHzLMtO8Abb",
        "outputId": "aca8f6e0-208d-4f96-f88d-18577c656815"
      },
      "execution_count": null,
      "outputs": [
        {
          "output_type": "stream",
          "name": "stdout",
          "text": [
            "t3= [-1.0000000e+00 -4.4408921e-16  1.0000000e+00 -8.8817842e-16]\n",
            "the size of t3 is 1.4142135623730951\n",
            "The nice vector is u3 = [-7.07106781e-01 -3.14018492e-16  7.07106781e-01 -6.28036983e-16]\n"
          ]
        }
      ]
    },
    {
      "cell_type": "code",
      "source": [
        "# Sanity check:\n",
        "print(\"The size of u1 =\", np.sqrt(u1.dot(u1)))\n",
        "print(\"The size of u2 =\", np.sqrt(u2.dot(u2)))\n",
        "print(\"The size of u3 =\", np.sqrt(u3.dot(u3)))\n",
        "print(\"u1.u2 =\", u1.dot(u2))"
      ],
      "metadata": {
        "colab": {
          "base_uri": "https://localhost:8080/"
        },
        "id": "SAUrnCaz8_v1",
        "outputId": "ada7a823-ad76-497a-c3d5-df8f75413f47"
      },
      "execution_count": null,
      "outputs": [
        {
          "output_type": "stream",
          "name": "stdout",
          "text": [
            "The size of u1 = 1.0\n",
            "The size of u2 = 1.0\n",
            "The size of u3 = 0.9999999999999999\n",
            "u1.u2 = -1.741861189847285e-16\n"
          ]
        }
      ]
    },
    {
      "cell_type": "code",
      "source": [],
      "metadata": {
        "id": "80H5TTvS9ILf"
      },
      "execution_count": null,
      "outputs": []
    }
  ]
}