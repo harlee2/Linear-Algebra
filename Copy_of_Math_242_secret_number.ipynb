{
  "nbformat": 4,
  "nbformat_minor": 0,
  "metadata": {
    "colab": {
      "provenance": [],
      "include_colab_link": true
    },
    "kernelspec": {
      "name": "python3",
      "display_name": "Python 3"
    }
  },
  "cells": [
    {
      "cell_type": "markdown",
      "metadata": {
        "id": "view-in-github",
        "colab_type": "text"
      },
      "source": [
        "<a href=\"https://colab.research.google.com/github/harlee2/Linear-Algebra/blob/main/Copy_of_Math_242_secret_number.ipynb\" target=\"_parent\"><img src=\"https://colab.research.google.com/assets/colab-badge.svg\" alt=\"Open In Colab\"/></a>"
      ]
    },
    {
      "cell_type": "markdown",
      "metadata": {
        "id": "Ry_o-kLL_-wf"
      },
      "source": [
        "# Load the preliminary code"
      ]
    },
    {
      "cell_type": "code",
      "metadata": {
        "id": "dhOLtwrRRc9S"
      },
      "source": [
        "import matplotlib.pyplot as plt\n",
        "from sympy import Poly\n",
        "import sympy as sym\n",
        "import numpy as np\n",
        "from numpy import c_\n",
        "\n",
        "# We'll specify that x and t are variables:\n",
        "x, t = sym.symbols('x, t')\n",
        "\n",
        "ll = \"loaded\""
      ],
      "execution_count": 1,
      "outputs": []
    },
    {
      "cell_type": "code",
      "metadata": {
        "id": "AHRXKhal_Wcj",
        "colab": {
          "base_uri": "https://localhost:8080/"
        },
        "outputId": "8c0c6355-f2c4-44b6-d5a2-39b2f4fc2a5e"
      },
      "source": [
        "lll = \" correctly!\"\n",
        "\n",
        "def rref(matrix):\n",
        "    A = np.array(matrix, dtype=np.float64)\n",
        "    \n",
        "    r = 0 #row\n",
        "    c = 0 #column\n",
        "\n",
        "    (maxr, maxc) = A.shape\n",
        "\n",
        "    prev_row_pivot = -1   # The previous row with a leading term:\n",
        "    tmp_pivot_row = -1\n",
        "    this_pivot_row = -1\n",
        "\n",
        "    for c in range(maxc):  # go through each column\n",
        "      tmp_pivot_row = -1  # reset the tmp pivot row\n",
        "      this_pivot_row = -1  # reset this pivot row\n",
        "      for r in range(maxr):  # Find the leading term in this column below prev_row_pivot\n",
        "        if ((r > prev_row_pivot) and (A[r][c] != 0.0)):\n",
        "          tmp_pivot_row = r  # find the new pivot row\n",
        "      if (tmp_pivot_row > -1):  # we found a candidate for the leading term:\n",
        "        #swap row this_pivot_row with (prev_row_pivot + 1)\n",
        "        A[[tmp_pivot_row, prev_row_pivot+1]] = A[[prev_row_pivot + 1, tmp_pivot_row]]\n",
        "        #set this_pivot_row to prev_row_pivot+1\n",
        "        this_pivot_row = prev_row_pivot + 1\n",
        "        #Now, normalize the row based on the pivot value:\n",
        "        A[ this_pivot_row ] = A[ this_pivot_row ] / A[ this_pivot_row ][c]\n",
        "        #Then, use this row to force 0's above and below the pivot entry:\n",
        "        #subtract multiples of of the this_pivot_row row from the others\n",
        "        for r_ in range(len(A)):\n",
        "            if r_ != this_pivot_row:\n",
        "                A[r_] = A[r_] - A[this_pivot_row] * A[r_][c] / A[this_pivot_row][c]\n",
        "        prev_row_pivot = this_pivot_row\n",
        "    return A    \n",
        "    \n",
        "    \n",
        "\n",
        "print(\">> The page \", ll, lll)"
      ],
      "execution_count": 2,
      "outputs": [
        {
          "output_type": "stream",
          "name": "stdout",
          "text": [
            ">> The page  loaded  correctly!\n"
          ]
        }
      ]
    },
    {
      "cell_type": "markdown",
      "metadata": {
        "id": "xVLAg1tp7aJX"
      },
      "source": [
        "# Set up the secret number"
      ]
    },
    {
      "cell_type": "markdown",
      "metadata": {
        "id": "2c12Csd440sV"
      },
      "source": [
        "You'll encode a secret number $s$ into a 4th or 5th degree polynomial as its vertical intercept.\n",
        "\n",
        "Once you've chosen $s$, then create a 4th or 5th degree polynomial $f$ such that the vertical intercept is $s$.\n"
      ]
    },
    {
      "cell_type": "code",
      "metadata": {
        "id": "bSeZFmS4vQWk",
        "colab": {
          "base_uri": "https://localhost:8080/",
          "height": 39
        },
        "outputId": "2f0951d6-e119-41f5-8e03-673f0a987567"
      },
      "source": [
        "# the secret number is s:\n",
        "\n",
        "s = 14\n",
        "\n",
        "p = Poly(14+2*x + 3*x**18, x, domain='RR')\n",
        "\n",
        "p"
      ],
      "execution_count": null,
      "outputs": [
        {
          "output_type": "execute_result",
          "data": {
            "text/plain": [
              "Poly(3.0*x**18 + 2.0*x + 14.0, x, domain='RR')"
            ],
            "text/latex": "$\\displaystyle \\operatorname{Poly}{\\left( 3.0 x^{18} + 2.0 x + 14.0, x, domain=\\mathbb{R} \\right)}$"
          },
          "metadata": {},
          "execution_count": 18
        }
      ]
    },
    {
      "cell_type": "code",
      "metadata": {
        "id": "buHLWqEJ5Hds",
        "colab": {
          "base_uri": "https://localhost:8080/",
          "height": 37
        },
        "outputId": "8cee7d60-5080-40c7-9c6c-31c375990c3c"
      },
      "source": [
        "#  Change this to evaluate the polynomial at 0:\n",
        "p.eval(x, 2.1)\n",
        "\n",
        "# Check that this is your secret number:"
      ],
      "execution_count": null,
      "outputs": [
        {
          "output_type": "execute_result",
          "data": {
            "text/plain": [
              "1892660.57719015"
            ],
            "text/latex": "$\\displaystyle 1892660.57719015$"
          },
          "metadata": {},
          "execution_count": 19
        }
      ]
    },
    {
      "cell_type": "markdown",
      "metadata": {
        "id": "ls3V1Lrnyr2P"
      },
      "source": [
        "# Generate your data points\n",
        "\n",
        "Use this code to generate the data points for your polynomial.  Write the data on the second page of your handout.  \n",
        "\n",
        "Writing \n",
        "\n",
        "```\n",
        "p.eval(x, 3)\n",
        "```\n",
        "\n",
        "will evaluate $p$ when $x = 3$.  Just change the $3$ to any value to evaluate $p$ at that input.\n",
        "\n",
        "Remember:  Keep your secret number and polynomial hidden."
      ]
    },
    {
      "cell_type": "code",
      "metadata": {
        "id": "5Ef1euoHynYu",
        "colab": {
          "base_uri": "https://localhost:8080/",
          "height": 37
        },
        "outputId": "d30f2a1f-7187-4c9b-c33e-5c1c8d936581"
      },
      "source": [
        "p.eval(x, 3)"
      ],
      "execution_count": null,
      "outputs": [
        {
          "output_type": "execute_result",
          "data": {
            "text/plain": [
              "1162261487.00000"
            ],
            "text/latex": "$\\displaystyle 1162261487.0$"
          },
          "metadata": {},
          "execution_count": 20
        }
      ]
    },
    {
      "cell_type": "markdown",
      "metadata": {
        "id": "a6e9mXs-z3qV"
      },
      "source": [
        "#  Decode the polynomial from another group\n",
        "\n",
        "In this section, we set up a linear system to find the polynomial and the secret number which was given to us by another group.\n",
        "\n",
        "First, set up a linear algebra system to find the polynomial on the handout and then enter the matrix here.  You may have to adjust the size of the matrix below to accommodate your data."
      ]
    },
    {
      "cell_type": "code",
      "metadata": {
        "id": "aC4OSnZ20YDh",
        "colab": {
          "base_uri": "https://localhost:8080/"
        },
        "outputId": "79c4e94d-0252-4f39-a5dc-82a91f67cd93"
      },
      "source": [
        "# create the matrix:\n",
        "A = np.matrix([[(0.37)**5, (0.37)**4, (0.37)**3, (0.37)**2, (0.37), 1],\n",
        "               [(0.69)**5, (0.69)**4, (0.69)**3, (0.69)**2, (0.69), 1],\n",
        "               [(0.86)**5, (0.86)**4, (0.86)**3, (0.86)**2, (0.86), 1],\n",
        "               [(-0.12)**5, (-0.12)**4, (-0.12)**3, (-0.12)**2, (-0.12), 1],\n",
        "               [(-0.55)**5, (-0.55)**4, (-0.55)**3, (-0.55)**2, (-0.55), 1],\n",
        "               [(-0.73)**5, (-0.73)**4, (-0.73)**3, (-0.73)**2, (-0.73), 1]])\n",
        " \n",
        "# create the vector for the right hand side:\n",
        "b = np.matrix([[50.37], [312.7], [603.96], [-0.064], [-152.21], [-355.68]])\n",
        "\n",
        "#Make sure the system looks appropriate:\n",
        "\n",
        "print(np.c_[A,b])"
      ],
      "execution_count": 5,
      "outputs": [
        {
          "output_type": "stream",
          "name": "stdout",
          "text": [
            "[[ 6.93439570e-03  1.87416100e-02  5.06530000e-02  1.36900000e-01\n",
            "   3.70000000e-01  1.00000000e+00  5.03700000e+01]\n",
            " [ 1.56403135e-01  2.26671210e-01  3.28509000e-01  4.76100000e-01\n",
            "   6.90000000e-01  1.00000000e+00  3.12700000e+02]\n",
            " [ 4.70427018e-01  5.47008160e-01  6.36056000e-01  7.39600000e-01\n",
            "   8.60000000e-01  1.00000000e+00  6.03960000e+02]\n",
            " [-2.48832000e-05  2.07360000e-04 -1.72800000e-03  1.44000000e-02\n",
            "  -1.20000000e-01  1.00000000e+00 -6.40000000e-02]\n",
            " [-5.03284375e-02  9.15062500e-02 -1.66375000e-01  3.02500000e-01\n",
            "  -5.50000000e-01  1.00000000e+00 -1.52210000e+02]\n",
            " [-2.07307159e-01  2.83982410e-01 -3.89017000e-01  5.32900000e-01\n",
            "  -7.30000000e-01  1.00000000e+00 -3.55680000e+02]]\n"
          ]
        }
      ]
    },
    {
      "cell_type": "markdown",
      "metadata": {
        "id": "EDZT8emc5iGZ"
      },
      "source": [
        "##  Solve using Row Operations:\n",
        "\n",
        "We'll solve the augmented matrix  $\\left( A \\, | \\, \\vec{b} \\right)$ using the function\n",
        "\n",
        "```\n",
        "rref(np.c_[A,b])\n",
        "```\n",
        "\n",
        "to provide the reduced row echelon form of the matrix system $\\left(A \\, | \\, \\vec{b} \\right)$.\n"
      ]
    },
    {
      "cell_type": "code",
      "metadata": {
        "id": "9Qhe2zZjYAVL",
        "colab": {
          "base_uri": "https://localhost:8080/"
        },
        "outputId": "e5800be7-b8db-41e4-b33e-e5ee170e6978"
      },
      "source": [
        "print(rref(np.c_[A,b]))"
      ],
      "execution_count": 6,
      "outputs": [
        {
          "output_type": "stream",
          "name": "stdout",
          "text": [
            "[[ 1.00000000e+00  0.00000000e+00  0.00000000e+00  0.00000000e+00\n",
            "   0.00000000e+00  0.00000000e+00 -4.09438790e-02]\n",
            " [ 0.00000000e+00  1.00000000e+00  0.00000000e+00  0.00000000e+00\n",
            "   0.00000000e+00  0.00000000e+00  1.70679973e+01]\n",
            " [-0.00000000e+00 -0.00000000e+00  1.00000000e+00  0.00000000e+00\n",
            "   0.00000000e+00  0.00000000e+00  9.27014594e+02]\n",
            " [ 0.00000000e+00  0.00000000e+00  0.00000000e+00  1.00000000e+00\n",
            "   0.00000000e+00  0.00000000e+00  7.40128238e-01]\n",
            " [-0.00000000e+00 -0.00000000e+00 -0.00000000e+00 -0.00000000e+00\n",
            "   1.00000000e+00  0.00000000e+00  2.99862292e+00]\n",
            " [-0.00000000e+00 -0.00000000e+00 -0.00000000e+00 -0.00000000e+00\n",
            "  -0.00000000e+00  1.00000000e+00  1.88351788e+00]]\n"
          ]
        }
      ]
    },
    {
      "cell_type": "markdown",
      "metadata": {
        "id": "6xHgTqYr1fuP"
      },
      "source": [
        "## Solve the system using numerical methods:\n",
        "\n",
        "We can also generate a solution using some more advanced numerical linear algebra techniques contained inside Numpy.\n",
        "\n",
        "To solve it this way, use:\n",
        "\n",
        "\n",
        "\n",
        "```\n",
        "np.linalg.solve(A,b)\n",
        "```\n",
        "\n",
        "or\n",
        "\n",
        "```\n",
        "np.linalg.lstsq(A,b,rcond=None)\n",
        "```\n",
        "\n",
        "The first method requires the matrix $A$ to be square.  The second method is a bit more robust, and can work with any size matrix.\n"
      ]
    },
    {
      "cell_type": "code",
      "metadata": {
        "id": "769dXoztlBcx",
        "colab": {
          "base_uri": "https://localhost:8080/"
        },
        "outputId": "bdcbc836-a43c-4719-9998-8b97cb998788"
      },
      "source": [
        "# Solve the system using a numerical linear algebra solution:\n",
        "solve_sol = np.linalg.solve(A,b)\n",
        "\n",
        "print(\"The solution using np.linalg.solve(A,b) is \")\n",
        "print(solve_sol)"
      ],
      "execution_count": 7,
      "outputs": [
        {
          "output_type": "stream",
          "name": "stdout",
          "text": [
            "The solution using np.linalg.solve(A,b) is \n",
            "[[-4.09438790e-02]\n",
            " [ 1.70679973e+01]\n",
            " [ 9.27014594e+02]\n",
            " [ 7.40128238e-01]\n",
            " [ 2.99862292e+00]\n",
            " [ 1.88351788e+00]]\n"
          ]
        }
      ]
    },
    {
      "cell_type": "code",
      "metadata": {
        "id": "ZEjNcqQvQbYo",
        "colab": {
          "base_uri": "https://localhost:8080/"
        },
        "outputId": "95bf94cb-86af-448b-c3bf-cbd5b7452022"
      },
      "source": [
        "# Solve the system using the numerical least squares method:\n",
        "lstsq_sol = np.linalg.lstsq(A,b,rcond=None)\n",
        "\n",
        "print(\"The np.linalg.lstsq(A,b) can work with non-square matrices A\")\n",
        "print(\"It gives back multiple pieces of information:\")\n",
        "print(\"lstsq_sol = \")\n",
        "print(lstsq_sol)\n",
        "\n",
        "print(\"\")\n",
        "print(\"The solution is first piece returned.  lstsq_sol[0] = \")\n",
        "print(lstsq_sol[0])\n"
      ],
      "execution_count": 8,
      "outputs": [
        {
          "output_type": "stream",
          "name": "stdout",
          "text": [
            "The np.linalg.lstsq(A,b) can work with non-square matrices A\n",
            "It gives back multiple pieces of information:\n",
            "lstsq_sol = \n",
            "(matrix([[-4.09438790e-02],\n",
            "        [ 1.70679973e+01],\n",
            "        [ 9.27014594e+02],\n",
            "        [ 7.40128238e-01],\n",
            "        [ 2.99862292e+00],\n",
            "        [ 1.88351788e+00]]), matrix([], shape=(1, 0), dtype=float64), 6, array([2.71635914, 1.70790369, 0.65117059, 0.26361023, 0.07599807,\n",
            "       0.03231243]))\n",
            "\n",
            "The solution is first piece returned.  lstsq_sol[0] = \n",
            "[[-4.09438790e-02]\n",
            " [ 1.70679973e+01]\n",
            " [ 9.27014594e+02]\n",
            " [ 7.40128238e-01]\n",
            " [ 2.99862292e+00]\n",
            " [ 1.88351788e+00]]\n"
          ]
        }
      ]
    },
    {
      "cell_type": "code",
      "source": [],
      "metadata": {
        "id": "g95XPHpwy_Re"
      },
      "execution_count": null,
      "outputs": []
    }
  ]
}